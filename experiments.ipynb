{
 "cells": [
  {
   "cell_type": "code",
   "execution_count": null,
   "id": "000f05b0",
   "metadata": {},
   "outputs": [],
   "source": [
    "import numpy as np\n",
    "import visualization.plots \n",
    "import datasets.control"
   ]
  },
  {
   "cell_type": "code",
   "execution_count": null,
   "id": "5b458fdc",
   "metadata": {},
   "outputs": [],
   "source": [
    "from datasets.control import get_mixture_distribution\n",
    "\n",
    "mixture_list = [\n",
    "    (\"uniform\", [-10, -5], [5, 10]),\n",
    "    (\"normal\", [10, 5], [2, 12]),\n",
    "    (\"normal\", 0, 1),\n",
    "    (\"normal\", [3, 6], [4, 5]),\n",
    "    (\"laplace\", 4, 1),\n",
    "    (\"normal\", -5, 3),\n",
    "    (\"exponential\", 1, -5),  # shift to center around -5\n",
    "]\n",
    "\n",
    "weights = [0.1, 0.2, 0.2, 0.1, 0.1, 0.2, 0.1]\n",
    "\n",
    "data = get_mixture_distribution(mixture_list, weights, size=(100000, 2))"
   ]
  },
  {
   "cell_type": "code",
   "execution_count": null,
   "id": "9708e170",
   "metadata": {},
   "outputs": [],
   "source": [
    "visualization.plots.plot_3d_kde(data)"
   ]
  }
 ],
 "metadata": {
  "kernelspec": {
   "display_name": "Python 3",
   "language": "python",
   "name": "python3"
  },
  "language_info": {
   "codemirror_mode": {
    "name": "ipython",
    "version": 3
   },
   "file_extension": ".py",
   "mimetype": "text/x-python",
   "name": "python",
   "nbconvert_exporter": "python",
   "pygments_lexer": "ipython3",
   "version": "3.13.2"
  }
 },
 "nbformat": 4,
 "nbformat_minor": 5
}
