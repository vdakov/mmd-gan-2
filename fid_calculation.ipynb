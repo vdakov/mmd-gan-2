{
 "cells": [
  {
   "cell_type": "code",
   "execution_count": 3,
   "id": "f9fa9f93",
   "metadata": {},
   "outputs": [
    {
     "name": "stderr",
     "output_type": "stream",
     "text": [
      "C:\\Users\\kovac\\AppData\\Local\\Temp\\ipykernel_20012\\3762872294.py:23: FutureWarning: You are using `torch.load` with `weights_only=False` (the current default value), which uses the default pickle module implicitly. It is possible to construct malicious pickle data which will execute arbitrary code during unpickling (See https://github.com/pytorch/pytorch/blob/main/SECURITY.md#untrusted-models for more details). In a future release, the default value for `weights_only` will be flipped to `True`. This limits the functions that could be executed during unpickling. Arbitrary objects will no longer be allowed to be loaded via this mode unless they are explicitly allowlisted by the user via `torch.serialization.add_safe_globals`. We recommend you start setting `weights_only=True` for any use case where you don't have full control of the loaded file. Please open an issue on GitHub for any issues related to this experimental feature.\n",
      "  state = torch.load(WEIGHTS_PATH, map_location=DEVICE)\n"
     ]
    },
    {
     "name": "stdout",
     "output_type": "stream",
     "text": [
      "Loaded G weights from ./mmdgan_experiment/cifar10/netG_50000.pth\n",
      "Files already downloaded and verified\n",
      "Sanity FID (real vs real): -0.000\n"
     ]
    }
   ],
   "source": [
    "import torch\n",
    "import torch.nn.functional as F\n",
    "from torch.utils.data import DataLoader\n",
    "from torchvision import datasets, transforms\n",
    "from torchmetrics.image.fid import FrechetInceptionDistance\n",
    "from modules import Generator\n",
    "from tqdm import tqdm\n",
    "\n",
    "# ─── CONFIG ────────────────────────────────────────────────────────────────────\n",
    "DEVICE        = torch.device(\"cuda\" if torch.cuda.is_available() else \"cpu\")\n",
    "NZ            = 128           \n",
    "IMAGE_SIZE    = 32            \n",
    "NC            = 3             \n",
    "NGF           = 64            \n",
    "BATCH_SIZE    = 100          \n",
    "N_SAMPLES     = 50000        \n",
    "WEIGHTS_PATH  = \"./mmdgan_experiment/cifar10/netG_50000.pth\"\n",
    "# ────────────────────────────────────────────────────────────────────────────────\n",
    "\n",
    "def sanity_main():\n",
    "    # 1) Build G and load\n",
    "    netG = Generator(IMAGE_SIZE, NC, NZ, NGF).to(DEVICE)\n",
    "    state = torch.load(WEIGHTS_PATH, map_location=DEVICE)\n",
    "    netG.load_state_dict(state)\n",
    "    netG.eval()\n",
    "    print(f\"Loaded G weights from {WEIGHTS_PATH}\")\n",
    "\n",
    "    # 2) Prepare FID metric (it will normalize internally)\n",
    "    fid = FrechetInceptionDistance(normalize=True).to(DEVICE)\n",
    "\n",
    "    # 3) Real‐data loader (no Normalize here!)\n",
    "    transform_real = transforms.Compose([\n",
    "        transforms.Resize((299, 299)),\n",
    "        transforms.ToTensor(),            # yields [0,1]\n",
    "    ])\n",
    "    real_ds = datasets.CIFAR10(\n",
    "        root=\"./data\", train=True, download=True,\n",
    "        transform=transform_real\n",
    "    )\n",
    "    real_loader = DataLoader(\n",
    "        real_ds, batch_size=BATCH_SIZE,\n",
    "        shuffle=False, num_workers=4, pin_memory=True\n",
    "    )\n",
    "\n",
    "       # ── SANITY CHECK: REAL vs REAL ────────────────────────────────────\n",
    "    fid.reset()\n",
    "    # First pass as “real”\n",
    "    for imgs, _ in real_loader:\n",
    "        fid.update(imgs.to(DEVICE), real=True)\n",
    "    # Second pass as “fake”\n",
    "    for imgs, _ in real_loader:\n",
    "        fid.update(imgs.to(DEVICE), real=False)\n",
    "    print(f\"Sanity FID (real vs real): {fid.compute():.3f}\")    \n",
    "    # Then reset before the real-vs-fake run\n",
    "    fid.reset()\n",
    "    # ───────────────────────────────────────────────────────────────────\n",
    "\n",
    "sanity_main()\n"
   ]
  },
  {
   "cell_type": "code",
   "execution_count": null,
   "id": "f5be9005",
   "metadata": {},
   "outputs": [
    {
     "name": "stderr",
     "output_type": "stream",
     "text": [
      "C:\\Users\\kovac\\AppData\\Local\\Temp\\ipykernel_20012\\252765043.py:23: FutureWarning: You are using `torch.load` with `weights_only=False` (the current default value), which uses the default pickle module implicitly. It is possible to construct malicious pickle data which will execute arbitrary code during unpickling (See https://github.com/pytorch/pytorch/blob/main/SECURITY.md#untrusted-models for more details). In a future release, the default value for `weights_only` will be flipped to `True`. This limits the functions that could be executed during unpickling. Arbitrary objects will no longer be allowed to be loaded via this mode unless they are explicitly allowlisted by the user via `torch.serialization.add_safe_globals`. We recommend you start setting `weights_only=True` for any use case where you don't have full control of the loaded file. Please open an issue on GitHub for any issues related to this experimental feature.\n",
      "  state = torch.load(WEIGHTS_PATH, map_location=DEVICE)\n"
     ]
    },
    {
     "name": "stdout",
     "output_type": "stream",
     "text": [
      "Loaded G weights from ./mmdgan_experiment/cifar10/netG_50000.pth\n",
      "Files already downloaded and verified\n"
     ]
    },
    {
     "name": "stderr",
     "output_type": "stream",
     "text": [
      "Real CIFAR-10: 100%|██████████| 500/500 [1:23:01<00:00,  9.96s/it]\n",
      "Fake samples: 100%|██████████| 500/500 [1:22:18<00:00,  9.88s/it]\n"
     ]
    },
    {
     "name": "stdout",
     "output_type": "stream",
     "text": [
      "Corrected FID: 55.837\n"
     ]
    }
   ],
   "source": [
    "import torch\n",
    "import torch.nn.functional as F\n",
    "from torch.utils.data import DataLoader\n",
    "from torchvision import datasets, transforms\n",
    "from torchmetrics.image.fid import FrechetInceptionDistance\n",
    "from modules import Generator\n",
    "from tqdm import tqdm\n",
    "\n",
    "# ─── CONFIG ────────────────────────────────────────────────────────────────────\n",
    "DEVICE        = torch.device(\"cuda\" if torch.cuda.is_available() else \"cpu\")\n",
    "NZ            = 128           \n",
    "IMAGE_SIZE    = 32            \n",
    "NC            = 3             \n",
    "NGF           = 64            \n",
    "BATCH_SIZE    = 100          \n",
    "N_SAMPLES     = 50000        \n",
    "WEIGHTS_PATH  = \"./mmdgan_experiment/cifar10/netG_50000.pth\"\n",
    "# ────────────────────────────────────────────────────────────────────────────────\n",
    "\n",
    "def main():\n",
    "    # 1) Build G and load\n",
    "    netG = Generator(IMAGE_SIZE, NC, NZ, NGF).to(DEVICE)\n",
    "    state = torch.load(WEIGHTS_PATH, map_location=DEVICE)\n",
    "    netG.load_state_dict(state)\n",
    "    netG.eval()\n",
    "    print(f\"Loaded G weights from {WEIGHTS_PATH}\")\n",
    "\n",
    "    # 2) Prepare FID metric (it will normalize internally)\n",
    "    fid = FrechetInceptionDistance(normalize=True).to(DEVICE)\n",
    "\n",
    "    # 3) Real‐data loader (no Normalize here!)\n",
    "    transform_real = transforms.Compose([\n",
    "        transforms.Resize((299, 299)),\n",
    "        transforms.ToTensor(),            # yields [0,1]\n",
    "    ])\n",
    "    real_ds = datasets.CIFAR10(\n",
    "        root=\"./data\", train=True, download=True,\n",
    "        transform=transform_real\n",
    "    )\n",
    "    real_loader = DataLoader(\n",
    "        real_ds, batch_size=BATCH_SIZE,\n",
    "        shuffle=False, num_workers=4, pin_memory=True\n",
    "    )\n",
    "\n",
    "    # 4) Accumulate real stats\n",
    "    with torch.no_grad():\n",
    "        for imgs, _ in tqdm(real_loader, desc=\"Real CIFAR-10\"):\n",
    "            imgs = imgs.to(DEVICE)\n",
    "            fid.update(imgs, real=True)\n",
    "\n",
    "    # 5) Generate & accumulate fake stats\n",
    "    n_batches = N_SAMPLES // BATCH_SIZE\n",
    "    with torch.no_grad():\n",
    "        for _ in tqdm(range(n_batches), desc=\"Fake samples\"):\n",
    "            z = torch.randn(BATCH_SIZE, NZ, 1, 1, device=DEVICE)\n",
    "            fakes = netG(z)\n",
    "            fakes = (fakes + 1) / 2  # assume netG outputs [-1,1] → [0,1]\n",
    "            fakes = F.interpolate(\n",
    "                fakes, size=(299, 299),\n",
    "                mode=\"bilinear\", align_corners=False\n",
    "            )\n",
    "            fid.update(fakes, real=False)\n",
    "\n",
    "    # 6) Compute & print\n",
    "    fid_value = fid.compute()\n",
    "    print(f\"FID OF CIFAR-10: {fid_value:.3f}\")\n",
    "\n",
    "if __name__ == \"__main__\":\n",
    "    main()\n"
   ]
  }
 ],
 "metadata": {
  "kernelspec": {
   "display_name": "standard-ml",
   "language": "python",
   "name": "python3"
  },
  "language_info": {
   "codemirror_mode": {
    "name": "ipython",
    "version": 3
   },
   "file_extension": ".py",
   "mimetype": "text/x-python",
   "name": "python",
   "nbconvert_exporter": "python",
   "pygments_lexer": "ipython3",
   "version": "3.12.3"
  }
 },
 "nbformat": 4,
 "nbformat_minor": 5
}
