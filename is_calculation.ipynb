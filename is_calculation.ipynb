{
 "cells": [
  {
   "cell_type": "code",
   "execution_count": 62,
   "id": "705ba901",
   "metadata": {},
   "outputs": [
    {
     "name": "stderr",
     "output_type": "stream",
     "text": [
      "C:\\Users\\kovac\\AppData\\Local\\Temp\\ipykernel_17612\\4192670100.py:49: FutureWarning: You are using `torch.load` with `weights_only=False` (the current default value), which uses the default pickle module implicitly. It is possible to construct malicious pickle data which will execute arbitrary code during unpickling (See https://github.com/pytorch/pytorch/blob/main/SECURITY.md#untrusted-models for more details). In a future release, the default value for `weights_only` will be flipped to `True`. This limits the functions that could be executed during unpickling. Arbitrary objects will no longer be allowed to be loaded via this mode unless they are explicitly allowlisted by the user via `torch.serialization.add_safe_globals`. We recommend you start setting `weights_only=True` for any use case where you don't have full control of the loaded file. Please open an issue on GitHub for any issues related to this experimental feature.\n",
      "  state = torch.load(WEIGHTS_PATH, map_location=DEVICE)\n"
     ]
    },
    {
     "name": "stdout",
     "output_type": "stream",
     "text": [
      "Loaded weights from ./mmdgan_experiment/cifar10/netG_50000.pth\n"
     ]
    },
    {
     "name": "stderr",
     "output_type": "stream",
     "text": [
      "Sampling & scoring batches: 100%|██████████| 500/500 [1:27:09<00:00, 10.46s/it]\n"
     ]
    },
    {
     "name": "stdout",
     "output_type": "stream",
     "text": [
      "CIFAR-10 Inception Score (50000 samples): 5.388 ± 0.048\n"
     ]
    }
   ],
   "source": [
    "import torch\n",
    "import torch.nn as nn\n",
    "from tqdm import tqdm\n",
    "from torchmetrics.image.inception import InceptionScore\n",
    "from modules import Generator\n",
    "\n",
    "# ─── CONFIG ────────────────────────────────────────────────────────────────────\n",
    "DEVICE        = torch.device(\"cuda\" if torch.cuda.is_available() else \"cpu\")\n",
    "NZ            = 128           # latent dim for CIFAR-10 in your code\n",
    "IMAGE_SIZE    = 32            # CIFAR-10 images trained at 32×32\n",
    "NC            = 3             # # channels\n",
    "NGF           = 64            # your generator base channels\n",
    "BATCH_SIZE    = 100           # tune to fit your GPU memory\n",
    "N_SAMPLES     = 50000         # number of samples for IS\n",
    "SPLITS        = 10            # standard for IS\n",
    "WEIGHTS_PATH  = \"./mmdgan_experiment/cifar10/netG_50000.pth\"\n",
    "# ────────────────────────────────────────────────────────────────────────────────\n",
    "\n",
    "def compute_inception_score_on_fake(netG, device,\n",
    "                                    batch_size=BATCH_SIZE,\n",
    "                                    N_samples=N_SAMPLES,\n",
    "                                    splits=SPLITS):\n",
    "    \"\"\"\n",
    "    Generates N_samples with netG(z) in memory,\n",
    "    updates torchmetrics InceptionScore, and returns it.\n",
    "    \"\"\"\n",
    "    netG.eval()\n",
    "    is_metric = InceptionScore(splits=splits, normalize=True).to(device)\n",
    "\n",
    "    # number of batches we'll do\n",
    "    n_batches = N_samples // batch_size\n",
    "\n",
    "    with torch.no_grad():\n",
    "        for _ in tqdm(range(n_batches), desc=\"Sampling & scoring batches\"):\n",
    "            z = torch.randn(batch_size, NZ, 1, 1, device=device)\n",
    "            fakes = netG(z)\n",
    "            # if your netG outputs in [-1,1], rescale to [0,1]:\n",
    "            fakes = (fakes + 1) / 2\n",
    "            # InceptionScore will resize to 299×299 & normalize internally\n",
    "            is_metric.update(fakes)\n",
    "\n",
    "    mean_is, std_is = is_metric.compute()\n",
    "    return mean_is.item(), std_is.item()\n",
    "\n",
    "\n",
    "def main():\n",
    "    # 1) Rebuild generator and load weights\n",
    "    netG = Generator(IMAGE_SIZE, NC, NZ, NGF).to(DEVICE)\n",
    "    state = torch.load(WEIGHTS_PATH, map_location=DEVICE)\n",
    "    netG.load_state_dict(state)\n",
    "    print(f\"Loaded weights from {WEIGHTS_PATH}\")\n",
    "\n",
    "    # 2) Compute IS with progress bar\n",
    "    mean_is, std_is = compute_inception_score_on_fake(\n",
    "        netG, DEVICE,\n",
    "        batch_size=BATCH_SIZE,\n",
    "        N_samples=N_SAMPLES,\n",
    "        splits=SPLITS\n",
    "    )\n",
    "    print(f\"CIFAR-10 Inception Score ({N_SAMPLES} samples): \"\n",
    "          f\"{mean_is:.3f} ± {std_is:.3f}\")\n",
    "\n",
    "\n",
    "if __name__ == \"__main__\":\n",
    "    main()\n"
   ]
  }
 ],
 "metadata": {
  "kernelspec": {
   "display_name": "standard-ml",
   "language": "python",
   "name": "python3"
  },
  "language_info": {
   "codemirror_mode": {
    "name": "ipython",
    "version": 3
   },
   "file_extension": ".py",
   "mimetype": "text/x-python",
   "name": "python",
   "nbconvert_exporter": "python",
   "pygments_lexer": "ipython3",
   "version": "3.12.3"
  }
 },
 "nbformat": 4,
 "nbformat_minor": 5
}
